{
 "cells": [
  {
   "cell_type": "markdown",
   "metadata": {},
   "source": [
    "# Instalacion de Python"
   ]
  },
  {
   "cell_type": "markdown",
   "metadata": {},
   "source": [
    "## Configuración de Proyecto"
   ]
  },
  {
   "cell_type": "markdown",
   "metadata": {},
   "source": [
    "### Creando Entorno Virtual"
   ]
  },
  {
   "cell_type": "markdown",
   "metadata": {},
   "source": [
    "```sh\n",
    "virtualenv lazaro\n",
    "cd lazaro\n",
    "source bin/activate\n",
    "```"
   ]
  },
  {
   "cell_type": "markdown",
   "metadata": {
    "collapsed": true
   },
   "source": [
    "### Configuracion de Versionamiento"
   ]
  },
  {
   "cell_type": "markdown",
   "metadata": {
    "collapsed": true
   },
   "source": [
    "```sh\n",
    "sudo apt-get install git\n",
    "```"
   ]
  },
  {
   "cell_type": "markdown",
   "metadata": {},
   "source": [
    "Iniciando el versionamiento"
   ]
  },
  {
   "cell_type": "markdown",
   "metadata": {},
   "source": [
    "```sh\n",
    "git init\n",
    "git remote add origin git@github.com:Marcelo1180/lazaro.git\n",
    "```"
   ]
  },
  {
   "cell_type": "markdown",
   "metadata": {},
   "source": [
    "Creando el documento **.gitignore**"
   ]
  },
  {
   "cell_type": "markdown",
   "metadata": {},
   "source": [
    "```sh\n",
    "nvim .gitignore\n",
    "```"
   ]
  },
  {
   "cell_type": "markdown",
   "metadata": {},
   "source": [
    "Editando el archivo **.gitignore**"
   ]
  },
  {
   "cell_type": "markdown",
   "metadata": {},
   "source": [
    "```git\n",
    "*.pyc\n",
    "lazaro/settings.py\n",
    "control_personal/migrations/\n",
    "```"
   ]
  },
  {
   "cell_type": "markdown",
   "metadata": {},
   "source": [
    "### Instalación de Dependencias"
   ]
  },
  {
   "cell_type": "markdown",
   "metadata": {
    "collapsed": true
   },
   "source": [
    "```sh\n",
    "pip install django\n",
    "```"
   ]
  },
  {
   "cell_type": "markdown",
   "metadata": {},
   "source": [
    "### Creación de Proyecto"
   ]
  },
  {
   "cell_type": "markdown",
   "metadata": {
    "collapsed": true
   },
   "source": [
    "```sh\n",
    "django-admin startproject lazaro\n",
    "cd lazaro\n",
    "django-admin startapp control_personal\n",
    "```"
   ]
  },
  {
   "cell_type": "markdown",
   "metadata": {},
   "source": [
    "Registrando la aplicación **control_personal** en **lazaro/settings.py**"
   ]
  },
  {
   "cell_type": "markdown",
   "metadata": {},
   "source": [
    "```python\n",
    "INSTALLED_APPS = [\n",
    "    'django.contrib.admin',\n",
    "    'django.contrib.auth',\n",
    "    'django.contrib.contenttypes',\n",
    "    'django.contrib.sessions',\n",
    "    'django.contrib.messages',\n",
    "    'django.contrib.staticfiles',\n",
    "\n",
    "    'control_personal',\n",
    "]\n",
    "```"
   ]
  },
  {
   "cell_type": "markdown",
   "metadata": {},
   "source": [
    "### Configurando otro modelo para el usuario"
   ]
  },
  {
   "cell_type": "markdown",
   "metadata": {},
   "source": [
    "```sh\n",
    "mkdir control_personal/models\n",
    "touch control_personal/models/__init__.py\n",
    "touch control_personal/models/usuario.py\n",
    "```"
   ]
  },
  {
   "cell_type": "markdown",
   "metadata": {},
   "source": [
    "Editando el archivo **control_personal/models/usuario.py**"
   ]
  },
  {
   "cell_type": "markdown",
   "metadata": {},
   "source": [
    "```python\n",
    "from __future__ import unicode_literals\n",
    "\n",
    "from django.db import models\n",
    "from django.contrib.auth.models import AbstractUser\n",
    "\n",
    "# Create your models here.\n",
    "class UsuarioManager(models.Manager):\n",
    "    def nombreCompleto(self):\n",
    "        full_name = '%s %s' % (self.first_name, self.last_name)\n",
    "        return full_name.strip()\n",
    "\n",
    "class Usuario(AbstractUser):\n",
    "    bio = models.TextField(max_length=500, blank=True)\n",
    "    location = models.CharField(max_length=30, blank=True)\n",
    "    birth_date = models.DateField(null=True, blank=True)\n",
    "    objects = UsuarioManager()\n",
    "\n",
    "    class Meta:\n",
    "        verbose_name = 'Usuario'\n",
    "        verbose_name_plural = 'Usuarios'\n",
    "\n",
    "    # def __str__(self):\n",
    "    #     return self.objects.nombreCompleto()\n",
    "\n",
    "    # def __unicode__(self):\n",
    "    #     return self.objects.nombreCompleto()\n",
    "\n",
    "```"
   ]
  },
  {
   "cell_type": "markdown",
   "metadata": {},
   "source": [
    "Agregando al archivo **lazaro/settings.py**"
   ]
  },
  {
   "cell_type": "markdown",
   "metadata": {},
   "source": [
    "```python\n",
    "AUTH_USER_MODEL = 'control_personal.Usuario'\n",
    "```"
   ]
  },
  {
   "cell_type": "markdown",
   "metadata": {},
   "source": [
    "Editando el archivo **control_personal/models/\\__init\\__.py**"
   ]
  },
  {
   "cell_type": "markdown",
   "metadata": {},
   "source": [
    "```python\n",
    "from usuario import *\n",
    "```"
   ]
  },
  {
   "cell_type": "markdown",
   "metadata": {},
   "source": [
    "Editando el archivo **control_personal/admin.py**"
   ]
  },
  {
   "cell_type": "markdown",
   "metadata": {},
   "source": [
    "```python\n",
    "from django.contrib import admin\n",
    "from control_personal.models import Usuario\n",
    "\n",
    "admin.site.register(Usuario)\n",
    "\n",
    "```"
   ]
  },
  {
   "cell_type": "markdown",
   "metadata": {},
   "source": [
    "### Ejecutando las migraciones"
   ]
  },
  {
   "cell_type": "markdown",
   "metadata": {},
   "source": [
    "```sh\n",
    "python manage.py makemigrations\n",
    "python manage.py migrate\n",
    "```"
   ]
  },
  {
   "cell_type": "markdown",
   "metadata": {},
   "source": [
    "Creando superusuario para el admin"
   ]
  },
  {
   "cell_type": "markdown",
   "metadata": {},
   "source": [
    "```sh\n",
    "python manage.py createsuperuser\n",
    "```"
   ]
  },
  {
   "cell_type": "markdown",
   "metadata": {},
   "source": [
    "### Iniciando el servidor (Desarrollo)"
   ]
  },
  {
   "cell_type": "markdown",
   "metadata": {},
   "source": [
    "```sh\n",
    "python manage.py runserver\n",
    "```"
   ]
  },
  {
   "cell_type": "markdown",
   "metadata": {},
   "source": [
    "### Configuración de Django Rest Framework"
   ]
  },
  {
   "cell_type": "markdown",
   "metadata": {},
   "source": [
    "```sh\n",
    "pip install djangorestframework\n",
    "pip install markdown\n",
    "pip install django-filter\n",
    "pip install djangorestframework-jwt\n",
    "pip install django-cors-headers\n",
    "```"
   ]
  },
  {
   "cell_type": "markdown",
   "metadata": {},
   "source": [
    "Registrando la aplicación **rest_framework** en **lazaro/settings.py**"
   ]
  },
  {
   "cell_type": "markdown",
   "metadata": {},
   "source": [
    "```python\n",
    "INSTALLED_APPS = [\n",
    "    ...\n",
    "    'corsheaders',\n",
    "    'rest_framework',\n",
    "]\n",
    "```"
   ]
  },
  {
   "cell_type": "markdown",
   "metadata": {},
   "source": [
    "Permisos por base de datos en el Modelo\n",
    "\n",
    "Creando el archivo **lazaro/permissions.py**"
   ]
  },
  {
   "cell_type": "markdown",
   "metadata": {},
   "source": [
    "```python\n",
    "from rest_framework.permissions import DjangoModelPermissions\n",
    "from rest_framework import permissions\n",
    "\n",
    "# Permisos globales para asignacion dinamica por base de datos en la tabla grupos y Meta.permission en los modelos\n",
    "class DjangoGuardianModelPermissions(DjangoModelPermissions):\n",
    "    perms_map = {\n",
    "        'GET': ['%(app_label)s.view_%(model_name)s'],\n",
    "        'OPTIONS': ['%(app_label)s.options_%(model_name)s'],\n",
    "        'HEAD': [],\n",
    "        'POST': ['%(app_label)s.add_%(model_name)s'],\n",
    "        'PUT': ['%(app_label)s.change_%(model_name)s'],\n",
    "        'PATCH': ['%(app_label)s.change_%(model_name)s'],\n",
    "        'DELETE': ['%(app_label)s.delete_%(model_name)s'],\n",
    "    }\n",
    "    \n",
    "class HasGroupPermission(permissions.BasePermission):\n",
    "    def has_permission(self, request, view):\n",
    "        user_groups = request.user.groups.values_list('name', flat=True)\n",
    "        required_groups = getattr(view, 'required_groups', {})\n",
    "        # Return True si alguno de los grupos del usuario estan en required_groups\n",
    "        if request.user.is_superuser:\n",
    "            return True\n",
    "        return set(required_groups).intersection(user_groups)\n",
    "```"
   ]
  },
  {
   "cell_type": "markdown",
   "metadata": {},
   "source": [
    "### Personalizando la respuesta JWT para el usuario"
   ]
  },
  {
   "cell_type": "markdown",
   "metadata": {},
   "source": [
    "```sh\n",
    "mkdir control_personal/views\n",
    "touch control_personal/views/__init__.py\n",
    "touch control_personal/views/jwt_usuario.py\n",
    "```"
   ]
  },
  {
   "cell_type": "markdown",
   "metadata": {},
   "source": [
    "Editando el archivo **control_personal/views/jwt_usuario.py**"
   ]
  },
  {
   "cell_type": "markdown",
   "metadata": {},
   "source": [
    "```python\n",
    "def jwt_usuario_response(token, user=None, request=None):\n",
    "    return {\n",
    "        'token': token,\n",
    "        'user': 'Respuesta personalizada',\n",
    "    }\n",
    "```"
   ]
  },
  {
   "cell_type": "markdown",
   "metadata": {},
   "source": [
    "Editando el archivo **control_personal/views/\\__init\\__.py**"
   ]
  },
  {
   "cell_type": "markdown",
   "metadata": {},
   "source": [
    "```python\n",
    "from jwt_usuario import *\n",
    "```"
   ]
  },
  {
   "cell_type": "markdown",
   "metadata": {},
   "source": [
    "Agregando las direcciones de autenticación de la aplicación en **lazaro/urls.py**"
   ]
  },
  {
   "cell_type": "markdown",
   "metadata": {},
   "source": [
    "```python\n",
    "from django.conf.urls import include\n",
    "from rest_framework_jwt.views import obtain_jwt_token\n",
    "\n",
    "urlpatterns = [\n",
    "    ...\n",
    "    url(r'^api-auth/', include('rest_framework.urls', namespace='rest_framework')),\n",
    "    url(r'^api-token-auth/', obtain_jwt_token),\n",
    "]\n",
    "```"
   ]
  },
  {
   "cell_type": "markdown",
   "metadata": {},
   "source": [
    "Configurando **rest_framework, cors-headers, jwt-token** en **lazaro/settings.py**"
   ]
  },
  {
   "cell_type": "markdown",
   "metadata": {},
   "source": [
    "```python\n",
    "INSTALLED_APPS = [\n",
    "    ...\n",
    "]\n",
    "# RestFramework Configurations --------------------------------------------------------\n",
    "REST_FRAMEWORK = {\n",
    "    'DEFAULT_PERMISSION_CLASSES': [\n",
    "        'lazaro.permissions.DjangoGuardianModelPermissions',\n",
    "    ],\n",
    "    'DEFAULT_PAGINATION_CLASS': 'rest_framework.pagination.PageNumberPagination',\n",
    "    'PAGE_SIZE': 15,\n",
    "    # JWT authentication Django Rest djangorestframework-jwt\n",
    "    'DEFAULT_AUTHENTICATION_CLASSES': (\n",
    "        'rest_framework_jwt.authentication.JSONWebTokenAuthentication',\n",
    "        'rest_framework.authentication.SessionAuthentication',\n",
    "        'rest_framework.authentication.BasicAuthentication',\n",
    "    ),\n",
    "    'SEARCH_PARAM' : 'filter',\n",
    "    'ORDERING_PARAM': 'order',\n",
    "}\n",
    "import datetime\n",
    "JWT_AUTH = {\n",
    "    'JWT_EXPIRATION_DELTA': datetime.timedelta(seconds=36000),\n",
    "    'JWT_RESPONSE_PAYLOAD_HANDLER': 'control_personal.views.jwt_usuario_response',\n",
    "    'JWT_AUTH_HEADER_PREFIX': 'Bearer',\n",
    "}\n",
    "CORS_ORIGIN_ALLOW_ALL = True\n",
    "CORS_ALLOW_HEADERS = (\n",
    "    'x-requested-with',\n",
    "    'content-type',\n",
    "    'accept',\n",
    "    'origin',\n",
    "    'authorization'\n",
    ")\n",
    "# -------------------------------------------------------------------------------------\n",
    "MIDDLEWARE = [\n",
    "    ...\n",
    "]\n",
    "```"
   ]
  },
  {
   "cell_type": "code",
   "execution_count": null,
   "metadata": {
    "collapsed": true
   },
   "outputs": [],
   "source": [
    "dd"
   ]
  },
  {
   "cell_type": "markdown",
   "metadata": {},
   "source": [
    "### Creando una API REST con DRF"
   ]
  },
  {
   "cell_type": "markdown",
   "metadata": {},
   "source": [
    "```sh\n",
    "mkdir control_personal/serializers\n",
    "touch control_personal/serializers/__init__.py\n",
    "touch control_personal/serializers/usuario.py\n",
    "touch control_personal/views/usuario.py\n",
    "```"
   ]
  },
  {
   "cell_type": "markdown",
   "metadata": {},
   "source": [
    "Editando el archivo **control_personal/serializers/usuario.py**"
   ]
  },
  {
   "cell_type": "markdown",
   "metadata": {},
   "source": [
    "```python\n",
    "#!/usr/bin/python\n",
    "# -*- coding: utf8 -*-\n",
    "from rest_framework import serializers\n",
    "from control_personal.models import Usuario\n",
    "\n",
    "\n",
    "class UsuarioSerializer(serializers.ModelSerializer):\n",
    "    class Meta:\n",
    "\tfields = '__all__'\n",
    "        model = Usuario\n",
    "```"
   ]
  },
  {
   "cell_type": "markdown",
   "metadata": {},
   "source": [
    "Editando el archivo **control_personal/serializers/\\__init\\__.py**"
   ]
  },
  {
   "cell_type": "markdown",
   "metadata": {},
   "source": [
    "```python\n",
    "from usuario import *\n",
    "```"
   ]
  },
  {
   "cell_type": "markdown",
   "metadata": {},
   "source": [
    "Editando el archivo **control_personal/views/usuario.py**"
   ]
  },
  {
   "cell_type": "markdown",
   "metadata": {},
   "source": [
    "```python\n",
    "#!/usr/bin/python\n",
    "# -*- coding: utf8 -*-\n",
    "from rest_framework import viewsets, filters\n",
    "from rest_framework.permissions import IsAuthenticated, AllowAny, IsAdminUser, DjangoModelPermissions\n",
    "from control_personal.serializers import UsuarioSerializer\n",
    "from control_personal.models import Usuario\n",
    "\n",
    "\n",
    "class UsuarioViewSet(viewsets.ModelViewSet):\n",
    "    \"\"\"\n",
    "    ## Usuarios del sistema\n",
    "    Trabajar con usuarios del sistema, solo tiene acceso el administrador del sistema\n",
    "    \"\"\"\n",
    "    permission_classes = [IsAdminUser]\n",
    "    queryset = Usuario.objects.all()\n",
    "    serializer_class = UsuarioSerializer\n",
    "    filter_backends = (filters.SearchFilter, filters.OrderingFilter,)\n",
    "    search_fields = ('username',)\n",
    "    ordering_fields = '__all__'\n",
    "```"
   ]
  },
  {
   "cell_type": "markdown",
   "metadata": {},
   "source": [
    "Agregando **usuario** al archivo **control_personal/views/\\__init\\__.py**"
   ]
  },
  {
   "cell_type": "markdown",
   "metadata": {},
   "source": [
    "```python\n",
    "from jwt_usuario import *\n",
    "from usuario import *\n",
    "```"
   ]
  },
  {
   "cell_type": "markdown",
   "metadata": {},
   "source": [
    "Agregando las direcciones de autenticación de la aplicación en **lazaro/urls.py**"
   ]
  },
  {
   "cell_type": "markdown",
   "metadata": {},
   "source": [
    "```python\n",
    "from django.conf.urls import url\n",
    "from django.contrib import admin\n",
    "from django.conf.urls import include\n",
    "from rest_framework_jwt.views import obtain_jwt_token\n",
    "from rest_framework.routers import DefaultRouter\n",
    "from control_personal import views\n",
    "# from rest_framework_swagger.views import get_swagger_view\n",
    "\n",
    "\n",
    "router = DefaultRouter()\n",
    "router.register(r'usuarios', views.UsuarioViewSet)\n",
    "\n",
    "\n",
    "# schema_view = get_swagger_view(title='Lazaro API')\n",
    "\n",
    "\n",
    "urlpatterns = [\n",
    "    url(r'^admin/', admin.site.urls),\n",
    "    url(r'^api-auth/', include('rest_framework.urls', namespace='rest_framework')),\n",
    "    url(r'^api-token-auth/', obtain_jwt_token),\n",
    "    # -------------------------------------------------------------------------------------------\n",
    "    # API REST\n",
    "    # -------------------------------------------------------------------------------------------\n",
    "    url(r'^api/v2/', include(router.urls)),\n",
    "    # url(r'^docs/', docs_schema_view),\n",
    "    # -------------------------------------------------------------------------------------------\n",
    "]\n",
    "```"
   ]
  },
  {
   "cell_type": "markdown",
   "metadata": {},
   "source": [
    "### Instalando DOCS basado en swagger"
   ]
  },
  {
   "cell_type": "markdown",
   "metadata": {},
   "source": [
    "```sh\n",
    "pip install django-rest-swagger\n",
    "```"
   ]
  },
  {
   "cell_type": "markdown",
   "metadata": {},
   "source": [
    "Registrando la aplicación **swagger** en **lazaro/settings.py**"
   ]
  },
  {
   "cell_type": "markdown",
   "metadata": {},
   "source": [
    "```python\n",
    "INSTALLED_APPS = [\n",
    "    ...\n",
    "    'rest_framework_swagger',\n",
    "]\n",
    "```"
   ]
  },
  {
   "cell_type": "markdown",
   "metadata": {},
   "source": [
    "Agregando las direcciones de **swagger** en **lazaro/urls.py**"
   ]
  },
  {
   "cell_type": "markdown",
   "metadata": {},
   "source": [
    "```python\n",
    "from rest_framework_swagger.views import get_swagger_view\n",
    "\n",
    "\n",
    "docs_schema_view = get_swagger_view(title='Lazaro API')\n",
    "\n",
    "\n",
    "urlpatterns = [\n",
    "    ...\n",
    "    url(r'^docs/', docs_schema_view),\n",
    "]\n",
    "```"
   ]
  },
  {
   "cell_type": "markdown",
   "metadata": {},
   "source": [
    "Estructura de Django\n",
    "\n",
    "http://docs.python-guide.org/en/latest/writing/structure/"
   ]
  },
  {
   "cell_type": "markdown",
   "metadata": {},
   "source": [
    "Tmux sessiones personalizadas\n",
    "\n",
    "http://minimul.com/increased-developer-productivity-with-tmux-part-4.html\n",
    "\n",
    "http://stackoverflow.com/questions/5609192/how-to-set-up-tmux-so-that-it-starts-up-with-specified-windows-opened\n",
    "\n",
    "https://github.com/jimeh/tmuxifier\n",
    "\n",
    "https://github.com/tmuxinator/tmuxinator"
   ]
  }
 ],
 "metadata": {
  "kernelspec": {
   "display_name": "Python 2",
   "language": "python",
   "name": "python2"
  },
  "language_info": {
   "codemirror_mode": {
    "name": "ipython",
    "version": 2
   },
   "file_extension": ".py",
   "mimetype": "text/x-python",
   "name": "python",
   "nbconvert_exporter": "python",
   "pygments_lexer": "ipython2",
   "version": "2.7.12+"
  }
 },
 "nbformat": 4,
 "nbformat_minor": 2
}
